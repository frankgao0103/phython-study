{
 "cells": [
  {
   "cell_type": "code",
   "execution_count": null,
   "metadata": {},
   "outputs": [],
   "source": [
    "from random import randrange\n",
    "\n",
    "coin_user,coin_bot = 5,5\n",
    "rounds_of_game = 0\n",
    "\n",
    "def bet(dice,wager):\n",
    "    if dice == 7:\n",
    "        print(f'the dice is {dice};\\nDRAW!\\n')\n",
    "        return 0\n",
    "    elif dice < 7:\n",
    "        if wager ==  's':\n",
    "            print(f'the dice is {dice};\\nYOU WIN!\\n')\n",
    "            return 1\n",
    "        else :\n",
    "            print(f'the dice is {dice};\\nYOU LOST!\\n')\n",
    "            return -1\n",
    "    elif dice > 7:\n",
    "        if wager ==  's':\n",
    "            print(f'the dice is {dice};\\nYOU LOST!\\n')\n",
    "            return -1\n",
    "        else :\n",
    "            print(f'the dice is {dice};\\nYOU WIN!\\n')\n",
    "            return 1\n",
    "\n",
    "while True:\n",
    "    print(f'You:{coin_user}\\t Bot:{coin_bot}')\n",
    "    dice = randrange(2,13)\n",
    "    wager = input(\"what's your bet?\")\n",
    "    if wager == 'q':\n",
    "        break\n",
    "    elif wager in 'bs':\n",
    "        result = bet(dice,wager)\n",
    "        coin_user += result\n",
    "        coin_bot -= result\n",
    "        rounds_of_game += 1\n",
    "    if coin_user == 0:\n",
    "        print(\"Woops,you've LOST All,and game over!\")\n",
    "        break\n",
    "    elif coin_bot == 0:\n",
    "        print(\"Woops,the robot's LOST ALL,and game over!\")\n",
    "        break\n",
    "\n",
    "print(f\"You've played {rounds_of_game} rounds.\\n\")\n",
    "print(f\"You have {coin_user} coins now.\\nBye!\")"
   ]
  }
 ],
 "metadata": {
  "kernelspec": {
   "display_name": "Python 3",
   "language": "python",
   "name": "python3"
  },
  "language_info": {
   "codemirror_mode": {
    "name": "ipython",
    "version": 3
   },
   "file_extension": ".py",
   "mimetype": "text/x-python",
   "name": "python",
   "nbconvert_exporter": "python",
   "pygments_lexer": "ipython3",
   "version": "3.7.4"
  }
 },
 "nbformat": 4,
 "nbformat_minor": 2
}
123
